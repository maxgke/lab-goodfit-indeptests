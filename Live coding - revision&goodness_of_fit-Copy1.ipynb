{
 "cells": [
  {
   "cell_type": "markdown",
   "metadata": {},
   "source": [
    "## INTRODUCTION\n",
    "\n",
    "Previous week we did a lot of tests. But they always talked about estimating a statistic. We always knew which distribution the statistic will have. \n",
    "\n",
    "What if now we want to know the distribution of the sample? It is not important for the CLT but it is something maybe important for us. \n",
    "\n",
    "For example, we have the next problem:\n",
    "\n",
    "The manager of an industrial plant intends to determine if the number of employees that attend the medical office of the plant are distributed equally during the 5 days of work of the week.\n",
    "\n",
    "Based on a random sample of 4 complete weeks of work, the following number of consultations was observed:\n",
    "\n",
    "+ Monday: 49\n",
    "+ Tuesday: 35\n",
    "+ Wednesday: 32\n",
    "+ Thursday: 39\n",
    "+ Friday: 45\n",
    "\n",
    "With alfa = 0.05, is there any reason to believe that the number of employees attending the doctor's office is not evenly distributed during the days of the week?\n",
    "\n",
    "What we want to see here is that the probability is a Uniform. And for a week, each day will have a probability 0.2\n",
    "\n",
    "So our null hypothesis would be: X~U(0.2)\n",
    "\n",
    "Please note that here the thing is we could always do a finite sample, we will always have a finite number of random variables so we don’t know if the distribution of the population is actually the uniform. \n",
    "\n",
    "+ n = 200 = 49+35+32+39+45\n",
    "+ pi = 0.2\n",
    "+ n*pi = 40\n",
    "+ K = 5 days\n",
    "\n",
    "![](https://www.thoughtco.com/thmb/ns7d4DC1AqVGme2p1-WYqC26r_s=/768x0/filters:no_upscale():max_bytes(150000):strip_icc()/latex_ac74fec08532861eb5f8b87226ebf396-5c59a6fcc9e77c00016b4195.jpg)\n",
    "\n",
    "## PRACTICE\n"
   ]
  },
  {
   "cell_type": "code",
   "execution_count": 2,
   "metadata": {
    "id": "BHXNGhVbhiHR"
   },
   "outputs": [],
   "source": [
    "import numpy as np\n",
    "from scipy.stats import chisquare\n",
    "\n",
    "observed = [49, 35, 32, 39, 45]\n",
    "alpha = 0.05"
   ]
  },
  {
   "cell_type": "markdown",
   "metadata": {},
   "source": [
    "### Now we will need the list of expected values as per the null hypothesis"
   ]
  },
  {
   "cell_type": "code",
   "execution_count": 3,
   "metadata": {},
   "outputs": [
    {
     "data": {
      "text/plain": [
       "[40.0, 40.0, 40.0, 40.0, 40.0]"
      ]
     },
     "execution_count": 3,
     "metadata": {},
     "output_type": "execute_result"
    }
   ],
   "source": [
    "n = np.sum(observed)\n",
    "expected= []\n",
    "for i in observed:\n",
    "    a = n/len(observed)\n",
    "    expected.append(a)\n",
    "expected\n"
   ]
  },
  {
   "cell_type": "code",
   "execution_count": 5,
   "metadata": {},
   "outputs": [
    {
     "data": {
      "text/plain": [
       "4.9"
      ]
     },
     "execution_count": 5,
     "metadata": {},
     "output_type": "execute_result"
    }
   ],
   "source": [
    "diff = np.subtract(observed, expected)\n",
    "chi_squared = np.sum(np.divide(np.square(diff),expected))\n",
    "\n",
    "chi_squared"
   ]
  },
  {
   "cell_type": "code",
   "execution_count": 7,
   "metadata": {},
   "outputs": [
    {
     "data": {
      "text/plain": [
       "9.487729036781154"
      ]
     },
     "execution_count": 7,
     "metadata": {},
     "output_type": "execute_result"
    }
   ],
   "source": [
    "from scipy.stats import chi, chi2\n",
    "\n",
    "df = len(observed)-1\n",
    "dist = chi2(df)\n",
    "dist.ppf(1-alpha)"
   ]
  },
  {
   "cell_type": "code",
   "execution_count": 8,
   "metadata": {},
   "outputs": [
    {
     "data": {
      "text/plain": [
       "\u001b[0;31mSignature:\u001b[0m \u001b[0mchi2\u001b[0m\u001b[0;34m.\u001b[0m\u001b[0mppf\u001b[0m\u001b[0;34m(\u001b[0m\u001b[0mq\u001b[0m\u001b[0;34m,\u001b[0m \u001b[0;34m*\u001b[0m\u001b[0margs\u001b[0m\u001b[0;34m,\u001b[0m \u001b[0;34m**\u001b[0m\u001b[0mkwds\u001b[0m\u001b[0;34m)\u001b[0m\u001b[0;34m\u001b[0m\u001b[0;34m\u001b[0m\u001b[0m\n",
       "\u001b[0;31mDocstring:\u001b[0m\n",
       "Percent point function (inverse of `cdf`) at q of the given RV.\n",
       "\n",
       "Parameters\n",
       "----------\n",
       "q : array_like\n",
       "    lower tail probability\n",
       "arg1, arg2, arg3,... : array_like\n",
       "    The shape parameter(s) for the distribution (see docstring of the\n",
       "    instance object for more information)\n",
       "loc : array_like, optional\n",
       "    location parameter (default=0)\n",
       "scale : array_like, optional\n",
       "    scale parameter (default=1)\n",
       "\n",
       "Returns\n",
       "-------\n",
       "x : array_like\n",
       "    quantile corresponding to the lower tail probability q.\n",
       "\u001b[0;31mFile:\u001b[0m      ~/opt/anaconda3/lib/python3.7/site-packages/scipy/stats/_distn_infrastructure.py\n",
       "\u001b[0;31mType:\u001b[0m      method\n"
      ]
     },
     "metadata": {},
     "output_type": "display_data"
    }
   ],
   "source": [
    "?chi2.ppf\n"
   ]
  },
  {
   "cell_type": "markdown",
   "metadata": {},
   "source": [
    "### Given that our chi squared is lower thann the critical value, we cannot reject the null hypothesis hence cannot reject the fact that the distribution is even with 95% of confidence"
   ]
  },
  {
   "cell_type": "code",
   "execution_count": 18,
   "metadata": {},
   "outputs": [
    {
     "name": "stdout",
     "output_type": "stream",
     "text": [
      "here we have the CHI:  62.07843137254902\n",
      "Critical value is this one here:  9.487729036781154\n",
      "\n",
      "YES, we can reject the null hypothesis\n"
     ]
    }
   ],
   "source": [
    "observed = [49, 35, 32, 39,100]\n",
    "alpha = 0.05\n",
    "\n",
    "n = np.sum(observed)\n",
    "expected = []\n",
    "for i in observed:\n",
    "    a = n/len(observed)\n",
    "    expected.append(a)\n",
    "diff = np.subtract(observed, expected)\n",
    "chi_squared = np.sum(np.divide(np.square(diff),expected))\n",
    "\n",
    "print(\"here we have the CHI: \", chi_squared)\n",
    "\n",
    "df = len(observed) - 1\n",
    "dist = chi2(df)\n",
    "criticalvalue = dist.ppf(1-alpha)\n",
    "\n",
    "print (\"Critical value is this one here: \", criticalvalue)\n",
    "print(\"\")\n",
    "\n",
    "if chi_squared> criticalvalue:\n",
    "    print(\"YES, we can reject the null hypothesis\")\n",
    "else: \n",
    "    print(\":( we don't really know. We can't reject null hypothesis\")\n",
    "\n"
   ]
  },
  {
   "cell_type": "markdown",
   "metadata": {},
   "source": [
    "### What about if we want to test if our distribution is normal?"
   ]
  },
  {
   "cell_type": "code",
   "execution_count": 25,
   "metadata": {},
   "outputs": [
    {
     "data": {
      "image/png": "[encoded data removed]",
      "text/plain": [
       "<Figure size 432x288 with 1 Axes>"
      ]
     },
     "metadata": {
      "needs_background": "light"
     },
     "output_type": "display_data"
    },
    {
     "name": "stdout",
     "output_type": "stream",
     "text": [
      "\n",
      "p = 0.13329862341605433\n",
      "\n",
      "We aren't sure. Cannot reject\n"
     ]
    }
   ],
   "source": [
    "from scipy import stats\n",
    "import seaborn as sns\n",
    "import matplotlib.pyplot as plt\n",
    "\n",
    "size = 1000\n",
    "alpha = 0.05\n",
    "\n",
    "a = np.random.normal(0,1,size=size)\n",
    "b = np.random.normal(0,1,size=size)\n",
    "\n",
    "x = np.concatenate((a,b))\n",
    "\n",
    "bins = np.linspace(-5,5,50)\n",
    "plt.hist(x, bins, alpha=0.1)\n",
    "plt.show()\n",
    "\n",
    "print(\"\")\n",
    "\n",
    "k2, p = stats.normaltest(x)\n",
    "\n",
    "print(\"p =\",p )\n",
    "print(\"\")\n",
    "if p < alpha:\n",
    "    print(\"YEAH, we can reject the null hypothesis. This is not a normal distribution at the given level of confidence\")\n",
    "else:\n",
    "    print(\"We aren't sure. Cannot reject\")"
   ]
  },
  {
   "cell_type": "code",
   "execution_count": null,
   "metadata": {},
   "outputs": [],
   "source": [
    "\n",
    "\n"
   ]
  },
  {
   "cell_type": "code",
   "execution_count": null,
   "metadata": {},
   "outputs": [],
   "source": []
  },
  {
   "cell_type": "code",
   "execution_count": null,
   "metadata": {},
   "outputs": [],
   "source": []
  }
 ],
 "metadata": {
  "colab": {
   "name": "revision&goodness_of_fit.ipynb",
   "provenance": []
  },
  "kernelspec": {
   "display_name": "Python 3",
   "language": "python",
   "name": "python3"
  },
  "language_info": {
   "codemirror_mode": {
    "name": "ipython",
    "version": 3
   },
   "file_extension": ".py",
   "mimetype": "text/x-python",
   "name": "python",
   "nbconvert_exporter": "python",
   "pygments_lexer": "ipython3",
   "version": "3.8.5"
  }
 },
 "nbformat": 4,
 "nbformat_minor": 4
}
